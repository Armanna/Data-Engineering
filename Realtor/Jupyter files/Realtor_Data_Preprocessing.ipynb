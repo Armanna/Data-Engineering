{
 "cells": [
  {
   "cell_type": "code",
   "execution_count": 1,
   "id": "dynamic-indonesia",
   "metadata": {},
   "outputs": [],
   "source": [
    "import pandas as pd"
   ]
  },
  {
   "cell_type": "markdown",
   "id": "southwest-hindu",
   "metadata": {},
   "source": [
    "# 1.Provinces"
   ]
  },
  {
   "cell_type": "code",
   "execution_count": 2,
   "id": "corrected-investor",
   "metadata": {},
   "outputs": [],
   "source": [
    "Provinces = pd.read_csv(r\"C:\\Users\\dell\\Dropbox\\My PC (DESKTOP-LL2SGK9)\\Desktop\\Data Engineering ACA\\Project\\Third_draft_of_the_project\\Realtor_tables\\static_tables\\1.Provinces.csv\")"
   ]
  },
  {
   "cell_type": "code",
   "execution_count": 3,
   "id": "cathedral-craft",
   "metadata": {},
   "outputs": [
    {
     "data": {
      "text/html": [
       "<div>\n",
       "<style scoped>\n",
       "    .dataframe tbody tr th:only-of-type {\n",
       "        vertical-align: middle;\n",
       "    }\n",
       "\n",
       "    .dataframe tbody tr th {\n",
       "        vertical-align: top;\n",
       "    }\n",
       "\n",
       "    .dataframe thead th {\n",
       "        text-align: right;\n",
       "    }\n",
       "</style>\n",
       "<table border=\"1\" class=\"dataframe\">\n",
       "  <thead>\n",
       "    <tr style=\"text-align: right;\">\n",
       "      <th></th>\n",
       "      <th>province_id</th>\n",
       "      <th>name</th>\n",
       "    </tr>\n",
       "  </thead>\n",
       "  <tbody>\n",
       "    <tr>\n",
       "      <th>0</th>\n",
       "      <td>1</td>\n",
       "      <td>Alberta</td>\n",
       "    </tr>\n",
       "    <tr>\n",
       "      <th>1</th>\n",
       "      <td>2</td>\n",
       "      <td>British Columbia</td>\n",
       "    </tr>\n",
       "    <tr>\n",
       "      <th>2</th>\n",
       "      <td>3</td>\n",
       "      <td>Manitoba</td>\n",
       "    </tr>\n",
       "    <tr>\n",
       "      <th>3</th>\n",
       "      <td>4</td>\n",
       "      <td>New Brunswick</td>\n",
       "    </tr>\n",
       "    <tr>\n",
       "      <th>4</th>\n",
       "      <td>5</td>\n",
       "      <td>Newfoundland and Labrador</td>\n",
       "    </tr>\n",
       "    <tr>\n",
       "      <th>5</th>\n",
       "      <td>6</td>\n",
       "      <td>Northwest Territories</td>\n",
       "    </tr>\n",
       "    <tr>\n",
       "      <th>6</th>\n",
       "      <td>7</td>\n",
       "      <td>Nova Scotia</td>\n",
       "    </tr>\n",
       "    <tr>\n",
       "      <th>7</th>\n",
       "      <td>8</td>\n",
       "      <td>Nunavut</td>\n",
       "    </tr>\n",
       "    <tr>\n",
       "      <th>8</th>\n",
       "      <td>9</td>\n",
       "      <td>Ontario</td>\n",
       "    </tr>\n",
       "    <tr>\n",
       "      <th>9</th>\n",
       "      <td>10</td>\n",
       "      <td>Prince Edward Island</td>\n",
       "    </tr>\n",
       "    <tr>\n",
       "      <th>10</th>\n",
       "      <td>11</td>\n",
       "      <td>Quebec</td>\n",
       "    </tr>\n",
       "    <tr>\n",
       "      <th>11</th>\n",
       "      <td>12</td>\n",
       "      <td>Saskatchewan</td>\n",
       "    </tr>\n",
       "    <tr>\n",
       "      <th>12</th>\n",
       "      <td>13</td>\n",
       "      <td>Yukon</td>\n",
       "    </tr>\n",
       "  </tbody>\n",
       "</table>\n",
       "</div>"
      ],
      "text/plain": [
       "    province_id                       name\n",
       "0             1                    Alberta\n",
       "1             2           British Columbia\n",
       "2             3                   Manitoba\n",
       "3             4              New Brunswick\n",
       "4             5  Newfoundland and Labrador\n",
       "5             6      Northwest Territories\n",
       "6             7                Nova Scotia\n",
       "7             8                    Nunavut\n",
       "8             9                    Ontario\n",
       "9            10       Prince Edward Island\n",
       "10           11                     Quebec\n",
       "11           12               Saskatchewan\n",
       "12           13                      Yukon"
      ]
     },
     "execution_count": 3,
     "metadata": {},
     "output_type": "execute_result"
    }
   ],
   "source": [
    "Provinces"
   ]
  },
  {
   "cell_type": "code",
   "execution_count": 4,
   "id": "legislative-breast",
   "metadata": {},
   "outputs": [
    {
     "name": "stdout",
     "output_type": "stream",
     "text": [
      "province_id - <class 'numpy.int64'>\n",
      "name - <class 'str'>\n"
     ]
    }
   ],
   "source": [
    "for column in Provinces:\n",
    "    print(column,'-',type(Provinces[column][0]))"
   ]
  },
  {
   "cell_type": "code",
   "execution_count": 5,
   "id": "finished-tribute",
   "metadata": {},
   "outputs": [],
   "source": [
    "# Everything is OK"
   ]
  },
  {
   "cell_type": "markdown",
   "id": "dutch-fitting",
   "metadata": {},
   "source": [
    "# 2.Cities"
   ]
  },
  {
   "cell_type": "code",
   "execution_count": 6,
   "id": "hydraulic-price",
   "metadata": {},
   "outputs": [],
   "source": [
    "Cities = pd.read_csv(r\"C:\\Users\\dell\\Dropbox\\My PC (DESKTOP-LL2SGK9)\\Desktop\\Data Engineering ACA\\Project\\Third_draft_of_the_project\\Realtor_tables\\static_tables\\2.Cities.csv\")"
   ]
  },
  {
   "cell_type": "code",
   "execution_count": 7,
   "id": "animal-dependence",
   "metadata": {},
   "outputs": [
    {
     "data": {
      "text/html": [
       "<div>\n",
       "<style scoped>\n",
       "    .dataframe tbody tr th:only-of-type {\n",
       "        vertical-align: middle;\n",
       "    }\n",
       "\n",
       "    .dataframe tbody tr th {\n",
       "        vertical-align: top;\n",
       "    }\n",
       "\n",
       "    .dataframe thead th {\n",
       "        text-align: right;\n",
       "    }\n",
       "</style>\n",
       "<table border=\"1\" class=\"dataframe\">\n",
       "  <thead>\n",
       "    <tr style=\"text-align: right;\">\n",
       "      <th></th>\n",
       "      <th>city_id</th>\n",
       "      <th>name</th>\n",
       "      <th>province_id</th>\n",
       "      <th>area(km²)</th>\n",
       "      <th>population</th>\n",
       "    </tr>\n",
       "  </thead>\n",
       "  <tbody>\n",
       "    <tr>\n",
       "      <th>0</th>\n",
       "      <td>1</td>\n",
       "      <td>Airdrie</td>\n",
       "      <td>1</td>\n",
       "      <td>84.57</td>\n",
       "      <td>43271</td>\n",
       "    </tr>\n",
       "    <tr>\n",
       "      <th>1</th>\n",
       "      <td>2</td>\n",
       "      <td>Beaumont</td>\n",
       "      <td>1</td>\n",
       "      <td>10.47</td>\n",
       "      <td>13284</td>\n",
       "    </tr>\n",
       "    <tr>\n",
       "      <th>2</th>\n",
       "      <td>3</td>\n",
       "      <td>Brooks</td>\n",
       "      <td>1</td>\n",
       "      <td>18.59</td>\n",
       "      <td>13676</td>\n",
       "    </tr>\n",
       "    <tr>\n",
       "      <th>3</th>\n",
       "      <td>4</td>\n",
       "      <td>Calgary</td>\n",
       "      <td>1</td>\n",
       "      <td>825.56</td>\n",
       "      <td>1096833</td>\n",
       "    </tr>\n",
       "    <tr>\n",
       "      <th>4</th>\n",
       "      <td>5</td>\n",
       "      <td>Camrose</td>\n",
       "      <td>1</td>\n",
       "      <td>42.62</td>\n",
       "      <td>17286</td>\n",
       "    </tr>\n",
       "    <tr>\n",
       "      <th>...</th>\n",
       "      <td>...</td>\n",
       "      <td>...</td>\n",
       "      <td>...</td>\n",
       "      <td>...</td>\n",
       "      <td>...</td>\n",
       "    </tr>\n",
       "    <tr>\n",
       "      <th>389</th>\n",
       "      <td>390</td>\n",
       "      <td>Swift Current</td>\n",
       "      <td>12</td>\n",
       "      <td>24.04</td>\n",
       "      <td>16604</td>\n",
       "    </tr>\n",
       "    <tr>\n",
       "      <th>390</th>\n",
       "      <td>391</td>\n",
       "      <td>Warman</td>\n",
       "      <td>12</td>\n",
       "      <td>8.54</td>\n",
       "      <td>11020</td>\n",
       "    </tr>\n",
       "    <tr>\n",
       "      <th>391</th>\n",
       "      <td>392</td>\n",
       "      <td>Weyburn</td>\n",
       "      <td>12</td>\n",
       "      <td>18.49</td>\n",
       "      <td>10870</td>\n",
       "    </tr>\n",
       "    <tr>\n",
       "      <th>392</th>\n",
       "      <td>393</td>\n",
       "      <td>Yorkton</td>\n",
       "      <td>12</td>\n",
       "      <td>25.77</td>\n",
       "      <td>16343</td>\n",
       "    </tr>\n",
       "    <tr>\n",
       "      <th>393</th>\n",
       "      <td>394</td>\n",
       "      <td>Whitehorse</td>\n",
       "      <td>13</td>\n",
       "      <td>416.54</td>\n",
       "      <td>25085</td>\n",
       "    </tr>\n",
       "  </tbody>\n",
       "</table>\n",
       "<p>394 rows × 5 columns</p>\n",
       "</div>"
      ],
      "text/plain": [
       "     city_id           name  province_id  area(km²)  population\n",
       "0          1        Airdrie            1      84.57       43271\n",
       "1          2       Beaumont            1      10.47       13284\n",
       "2          3         Brooks            1      18.59       13676\n",
       "3          4        Calgary            1     825.56     1096833\n",
       "4          5        Camrose            1      42.62       17286\n",
       "..       ...            ...          ...        ...         ...\n",
       "389      390  Swift Current           12      24.04       16604\n",
       "390      391         Warman           12       8.54       11020\n",
       "391      392        Weyburn           12      18.49       10870\n",
       "392      393        Yorkton           12      25.77       16343\n",
       "393      394     Whitehorse           13     416.54       25085\n",
       "\n",
       "[394 rows x 5 columns]"
      ]
     },
     "execution_count": 7,
     "metadata": {},
     "output_type": "execute_result"
    }
   ],
   "source": [
    "Cities"
   ]
  },
  {
   "cell_type": "code",
   "execution_count": 8,
   "id": "miniature-crawford",
   "metadata": {},
   "outputs": [
    {
     "name": "stdout",
     "output_type": "stream",
     "text": [
      "city_id - <class 'numpy.int64'>\n",
      "name - <class 'str'>\n",
      "province_id - <class 'numpy.int64'>\n",
      "area(km²) - <class 'numpy.float64'>\n",
      "population - <class 'numpy.int64'>\n"
     ]
    }
   ],
   "source": [
    "for column in Cities:\n",
    "    print(column,'-',type(Cities[column][0]))"
   ]
  },
  {
   "cell_type": "code",
   "execution_count": 9,
   "id": "actual-tongue",
   "metadata": {},
   "outputs": [],
   "source": [
    "# Everything is OK"
   ]
  },
  {
   "cell_type": "markdown",
   "id": "internal-value",
   "metadata": {},
   "source": [
    "# 3.Property_type"
   ]
  },
  {
   "cell_type": "code",
   "execution_count": 10,
   "id": "blind-spice",
   "metadata": {},
   "outputs": [],
   "source": [
    "Property_type = pd.read_csv(r\"C:\\Users\\dell\\Dropbox\\My PC (DESKTOP-LL2SGK9)\\Desktop\\Data Engineering ACA\\Project\\Third_draft_of_the_project\\Realtor_tables\\static_tables\\3.Property_type.csv\")"
   ]
  },
  {
   "cell_type": "code",
   "execution_count": 11,
   "id": "lesser-killer",
   "metadata": {},
   "outputs": [
    {
     "data": {
      "text/html": [
       "<div>\n",
       "<style scoped>\n",
       "    .dataframe tbody tr th:only-of-type {\n",
       "        vertical-align: middle;\n",
       "    }\n",
       "\n",
       "    .dataframe tbody tr th {\n",
       "        vertical-align: top;\n",
       "    }\n",
       "\n",
       "    .dataframe thead th {\n",
       "        text-align: right;\n",
       "    }\n",
       "</style>\n",
       "<table border=\"1\" class=\"dataframe\">\n",
       "  <thead>\n",
       "    <tr style=\"text-align: right;\">\n",
       "      <th></th>\n",
       "      <th>property_type_id</th>\n",
       "      <th>name</th>\n",
       "    </tr>\n",
       "  </thead>\n",
       "  <tbody>\n",
       "    <tr>\n",
       "      <th>0</th>\n",
       "      <td>1</td>\n",
       "      <td>Single Family</td>\n",
       "    </tr>\n",
       "    <tr>\n",
       "      <th>1</th>\n",
       "      <td>2</td>\n",
       "      <td>Multi-family</td>\n",
       "    </tr>\n",
       "    <tr>\n",
       "      <th>2</th>\n",
       "      <td>3</td>\n",
       "      <td>Recreational</td>\n",
       "    </tr>\n",
       "  </tbody>\n",
       "</table>\n",
       "</div>"
      ],
      "text/plain": [
       "   property_type_id           name\n",
       "0                 1  Single Family\n",
       "1                 2   Multi-family\n",
       "2                 3   Recreational"
      ]
     },
     "execution_count": 11,
     "metadata": {},
     "output_type": "execute_result"
    }
   ],
   "source": [
    "Property_type"
   ]
  },
  {
   "cell_type": "code",
   "execution_count": 12,
   "id": "realistic-disco",
   "metadata": {},
   "outputs": [
    {
     "name": "stdout",
     "output_type": "stream",
     "text": [
      "property_type_id - <class 'numpy.int64'>\n",
      "name - <class 'str'>\n"
     ]
    }
   ],
   "source": [
    "for column in Property_type:\n",
    "    print(column,'-',type(Property_type[column][0]))"
   ]
  },
  {
   "cell_type": "code",
   "execution_count": 13,
   "id": "artistic-salon",
   "metadata": {},
   "outputs": [],
   "source": [
    "# Everything is OK"
   ]
  },
  {
   "cell_type": "markdown",
   "id": "hydraulic-latvia",
   "metadata": {},
   "source": [
    "# 4.Building_type"
   ]
  },
  {
   "cell_type": "code",
   "execution_count": 14,
   "id": "competitive-generator",
   "metadata": {},
   "outputs": [],
   "source": [
    "Building_type = pd.read_csv(r\"C:\\Users\\dell\\Dropbox\\My PC (DESKTOP-LL2SGK9)\\Desktop\\Data Engineering ACA\\Project\\Third_draft_of_the_project\\Realtor_tables\\static_tables\\4.Building_type.csv\")"
   ]
  },
  {
   "cell_type": "code",
   "execution_count": 15,
   "id": "given-wellington",
   "metadata": {},
   "outputs": [
    {
     "data": {
      "text/html": [
       "<div>\n",
       "<style scoped>\n",
       "    .dataframe tbody tr th:only-of-type {\n",
       "        vertical-align: middle;\n",
       "    }\n",
       "\n",
       "    .dataframe tbody tr th {\n",
       "        vertical-align: top;\n",
       "    }\n",
       "\n",
       "    .dataframe thead th {\n",
       "        text-align: right;\n",
       "    }\n",
       "</style>\n",
       "<table border=\"1\" class=\"dataframe\">\n",
       "  <thead>\n",
       "    <tr style=\"text-align: right;\">\n",
       "      <th></th>\n",
       "      <th>building_type_id</th>\n",
       "      <th>name</th>\n",
       "    </tr>\n",
       "  </thead>\n",
       "  <tbody>\n",
       "    <tr>\n",
       "      <th>0</th>\n",
       "      <td>1</td>\n",
       "      <td>House</td>\n",
       "    </tr>\n",
       "    <tr>\n",
       "      <th>1</th>\n",
       "      <td>2</td>\n",
       "      <td>Row / Townhouse</td>\n",
       "    </tr>\n",
       "    <tr>\n",
       "      <th>2</th>\n",
       "      <td>3</td>\n",
       "      <td>Apartment</td>\n",
       "    </tr>\n",
       "    <tr>\n",
       "      <th>3</th>\n",
       "      <td>4</td>\n",
       "      <td>Manufactured Home/Mobile</td>\n",
       "    </tr>\n",
       "    <tr>\n",
       "      <th>4</th>\n",
       "      <td>5</td>\n",
       "      <td>Duplex</td>\n",
       "    </tr>\n",
       "    <tr>\n",
       "      <th>5</th>\n",
       "      <td>6</td>\n",
       "      <td>Recreational</td>\n",
       "    </tr>\n",
       "    <tr>\n",
       "      <th>6</th>\n",
       "      <td>7</td>\n",
       "      <td>Manufactured Home</td>\n",
       "    </tr>\n",
       "    <tr>\n",
       "      <th>7</th>\n",
       "      <td>8</td>\n",
       "      <td>Mobile Home</td>\n",
       "    </tr>\n",
       "    <tr>\n",
       "      <th>8</th>\n",
       "      <td>9</td>\n",
       "      <td>Fourplex</td>\n",
       "    </tr>\n",
       "    <tr>\n",
       "      <th>9</th>\n",
       "      <td>10</td>\n",
       "      <td>Triplex</td>\n",
       "    </tr>\n",
       "    <tr>\n",
       "      <th>10</th>\n",
       "      <td>11</td>\n",
       "      <td>Multi-Family</td>\n",
       "    </tr>\n",
       "    <tr>\n",
       "      <th>11</th>\n",
       "      <td>12</td>\n",
       "      <td>Other</td>\n",
       "    </tr>\n",
       "    <tr>\n",
       "      <th>12</th>\n",
       "      <td>13</td>\n",
       "      <td>Two Apartment House</td>\n",
       "    </tr>\n",
       "    <tr>\n",
       "      <th>13</th>\n",
       "      <td>14</td>\n",
       "      <td>Modular</td>\n",
       "    </tr>\n",
       "  </tbody>\n",
       "</table>\n",
       "</div>"
      ],
      "text/plain": [
       "    building_type_id                      name\n",
       "0                  1                     House\n",
       "1                  2           Row / Townhouse\n",
       "2                  3                 Apartment\n",
       "3                  4  Manufactured Home/Mobile\n",
       "4                  5                    Duplex\n",
       "5                  6              Recreational\n",
       "6                  7         Manufactured Home\n",
       "7                  8               Mobile Home\n",
       "8                  9                  Fourplex\n",
       "9                 10                   Triplex\n",
       "10                11              Multi-Family\n",
       "11                12                     Other\n",
       "12                13       Two Apartment House\n",
       "13                14                   Modular"
      ]
     },
     "execution_count": 15,
     "metadata": {},
     "output_type": "execute_result"
    }
   ],
   "source": [
    "Building_type"
   ]
  },
  {
   "cell_type": "code",
   "execution_count": 16,
   "id": "another-document",
   "metadata": {},
   "outputs": [
    {
     "name": "stdout",
     "output_type": "stream",
     "text": [
      "building_type_id - <class 'numpy.int64'>\n",
      "name - <class 'str'>\n"
     ]
    }
   ],
   "source": [
    "for column in Building_type:\n",
    "    print(column,'-',type(Building_type[column][0]))"
   ]
  },
  {
   "cell_type": "code",
   "execution_count": 17,
   "id": "coupled-caution",
   "metadata": {},
   "outputs": [],
   "source": [
    "# Everything is OK"
   ]
  },
  {
   "cell_type": "markdown",
   "id": "increasing-duncan",
   "metadata": {},
   "source": [
    "# 5.Property_ownership_type"
   ]
  },
  {
   "cell_type": "code",
   "execution_count": 18,
   "id": "sustained-blake",
   "metadata": {},
   "outputs": [],
   "source": [
    "Property_ownership_type = pd.read_csv(r\"C:\\Users\\dell\\Dropbox\\My PC (DESKTOP-LL2SGK9)\\Desktop\\Data Engineering ACA\\Project\\Third_draft_of_the_project\\Realtor_tables\\static_tables\\5.Property_ownership_type.csv\")"
   ]
  },
  {
   "cell_type": "code",
   "execution_count": 19,
   "id": "framed-report",
   "metadata": {},
   "outputs": [
    {
     "data": {
      "text/html": [
       "<div>\n",
       "<style scoped>\n",
       "    .dataframe tbody tr th:only-of-type {\n",
       "        vertical-align: middle;\n",
       "    }\n",
       "\n",
       "    .dataframe tbody tr th {\n",
       "        vertical-align: top;\n",
       "    }\n",
       "\n",
       "    .dataframe thead th {\n",
       "        text-align: right;\n",
       "    }\n",
       "</style>\n",
       "<table border=\"1\" class=\"dataframe\">\n",
       "  <thead>\n",
       "    <tr style=\"text-align: right;\">\n",
       "      <th></th>\n",
       "      <th>property_ownership_type_id</th>\n",
       "      <th>name</th>\n",
       "    </tr>\n",
       "  </thead>\n",
       "  <tbody>\n",
       "    <tr>\n",
       "      <th>0</th>\n",
       "      <td>1</td>\n",
       "      <td>Freehold</td>\n",
       "    </tr>\n",
       "    <tr>\n",
       "      <th>1</th>\n",
       "      <td>2</td>\n",
       "      <td>Unknown</td>\n",
       "    </tr>\n",
       "    <tr>\n",
       "      <th>2</th>\n",
       "      <td>3</td>\n",
       "      <td>Condominium/Strata</td>\n",
       "    </tr>\n",
       "    <tr>\n",
       "      <th>3</th>\n",
       "      <td>4</td>\n",
       "      <td>Leasehold</td>\n",
       "    </tr>\n",
       "    <tr>\n",
       "      <th>4</th>\n",
       "      <td>5</td>\n",
       "      <td>Strata</td>\n",
       "    </tr>\n",
       "    <tr>\n",
       "      <th>5</th>\n",
       "      <td>6</td>\n",
       "      <td>Leasehold Condo/Strata</td>\n",
       "    </tr>\n",
       "    <tr>\n",
       "      <th>6</th>\n",
       "      <td>7</td>\n",
       "      <td>Shares in Co-operative</td>\n",
       "    </tr>\n",
       "    <tr>\n",
       "      <th>7</th>\n",
       "      <td>8</td>\n",
       "      <td>Other, See Remarks</td>\n",
       "    </tr>\n",
       "    <tr>\n",
       "      <th>8</th>\n",
       "      <td>9</td>\n",
       "      <td>Timeshare/Fractional</td>\n",
       "    </tr>\n",
       "    <tr>\n",
       "      <th>9</th>\n",
       "      <td>10</td>\n",
       "      <td>Freehold Condo</td>\n",
       "    </tr>\n",
       "    <tr>\n",
       "      <th>10</th>\n",
       "      <td>11</td>\n",
       "      <td>Life Lease</td>\n",
       "    </tr>\n",
       "    <tr>\n",
       "      <th>11</th>\n",
       "      <td>12</td>\n",
       "      <td>Condominium</td>\n",
       "    </tr>\n",
       "    <tr>\n",
       "      <th>12</th>\n",
       "      <td>13</td>\n",
       "      <td>Cooperative</td>\n",
       "    </tr>\n",
       "    <tr>\n",
       "      <th>13</th>\n",
       "      <td>14</td>\n",
       "      <td>Undivided Co-ownership</td>\n",
       "    </tr>\n",
       "  </tbody>\n",
       "</table>\n",
       "</div>"
      ],
      "text/plain": [
       "    property_ownership_type_id                    name\n",
       "0                            1                Freehold\n",
       "1                            2                 Unknown\n",
       "2                            3      Condominium/Strata\n",
       "3                            4               Leasehold\n",
       "4                            5                  Strata\n",
       "5                            6  Leasehold Condo/Strata\n",
       "6                            7  Shares in Co-operative\n",
       "7                            8      Other, See Remarks\n",
       "8                            9    Timeshare/Fractional\n",
       "9                           10          Freehold Condo\n",
       "10                          11              Life Lease\n",
       "11                          12             Condominium\n",
       "12                          13             Cooperative\n",
       "13                          14  Undivided Co-ownership"
      ]
     },
     "execution_count": 19,
     "metadata": {},
     "output_type": "execute_result"
    }
   ],
   "source": [
    "Property_ownership_type"
   ]
  },
  {
   "cell_type": "code",
   "execution_count": 20,
   "id": "south-flight",
   "metadata": {},
   "outputs": [
    {
     "name": "stdout",
     "output_type": "stream",
     "text": [
      "property_ownership_type_id - <class 'numpy.int64'>\n",
      "name - <class 'str'>\n"
     ]
    }
   ],
   "source": [
    "for column in Property_ownership_type:\n",
    "    print(column,'-',type(Property_ownership_type[column][0]))"
   ]
  },
  {
   "cell_type": "code",
   "execution_count": 21,
   "id": "contrary-herald",
   "metadata": {},
   "outputs": [],
   "source": [
    "# Everything is OK"
   ]
  },
  {
   "cell_type": "markdown",
   "id": "missing-albert",
   "metadata": {},
   "source": [
    "# 6.Estate_status"
   ]
  },
  {
   "cell_type": "code",
   "execution_count": 22,
   "id": "vulnerable-angola",
   "metadata": {},
   "outputs": [],
   "source": [
    "Estate_status = pd.read_csv(r\"C:\\Users\\dell\\Dropbox\\My PC (DESKTOP-LL2SGK9)\\Desktop\\Data Engineering ACA\\Project\\Third_draft_of_the_project\\Realtor_tables\\static_tables\\6.Estate_status.csv\")"
   ]
  },
  {
   "cell_type": "code",
   "execution_count": 23,
   "id": "digital-nirvana",
   "metadata": {},
   "outputs": [
    {
     "data": {
      "text/html": [
       "<div>\n",
       "<style scoped>\n",
       "    .dataframe tbody tr th:only-of-type {\n",
       "        vertical-align: middle;\n",
       "    }\n",
       "\n",
       "    .dataframe tbody tr th {\n",
       "        vertical-align: top;\n",
       "    }\n",
       "\n",
       "    .dataframe thead th {\n",
       "        text-align: right;\n",
       "    }\n",
       "</style>\n",
       "<table border=\"1\" class=\"dataframe\">\n",
       "  <thead>\n",
       "    <tr style=\"text-align: right;\">\n",
       "      <th></th>\n",
       "      <th>estate_status_id</th>\n",
       "      <th>name</th>\n",
       "    </tr>\n",
       "  </thead>\n",
       "  <tbody>\n",
       "    <tr>\n",
       "      <th>0</th>\n",
       "      <td>1</td>\n",
       "      <td>is selling</td>\n",
       "    </tr>\n",
       "    <tr>\n",
       "      <th>1</th>\n",
       "      <td>2</td>\n",
       "      <td>sold</td>\n",
       "    </tr>\n",
       "  </tbody>\n",
       "</table>\n",
       "</div>"
      ],
      "text/plain": [
       "   estate_status_id        name\n",
       "0                 1  is selling\n",
       "1                 2        sold"
      ]
     },
     "execution_count": 23,
     "metadata": {},
     "output_type": "execute_result"
    }
   ],
   "source": [
    "Estate_status"
   ]
  },
  {
   "cell_type": "code",
   "execution_count": 24,
   "id": "dominican-given",
   "metadata": {},
   "outputs": [
    {
     "name": "stdout",
     "output_type": "stream",
     "text": [
      "estate_status_id - <class 'numpy.int64'>\n",
      "name - <class 'str'>\n"
     ]
    }
   ],
   "source": [
    "for column in Estate_status:\n",
    "    print(column,'-',type(Estate_status[column][0]))"
   ]
  },
  {
   "cell_type": "code",
   "execution_count": 25,
   "id": "involved-telephone",
   "metadata": {},
   "outputs": [],
   "source": [
    "# Everything is OK"
   ]
  },
  {
   "cell_type": "markdown",
   "id": "ethical-uniform",
   "metadata": {},
   "source": [
    "# 7.Organizations"
   ]
  },
  {
   "cell_type": "code",
   "execution_count": 26,
   "id": "owned-bread",
   "metadata": {},
   "outputs": [],
   "source": [
    "Organizations = pd.read_csv(r\"C:\\Users\\dell\\Dropbox\\My PC (DESKTOP-LL2SGK9)\\Desktop\\Data Engineering ACA\\Project\\Third_draft_of_the_project\\Realtor_tables\\static_tables\\7.Organizations.csv\")"
   ]
  },
  {
   "cell_type": "code",
   "execution_count": 27,
   "id": "caring-civilian",
   "metadata": {},
   "outputs": [
    {
     "data": {
      "text/html": [
       "<div>\n",
       "<style scoped>\n",
       "    .dataframe tbody tr th:only-of-type {\n",
       "        vertical-align: middle;\n",
       "    }\n",
       "\n",
       "    .dataframe tbody tr th {\n",
       "        vertical-align: top;\n",
       "    }\n",
       "\n",
       "    .dataframe thead th {\n",
       "        text-align: right;\n",
       "    }\n",
       "</style>\n",
       "<table border=\"1\" class=\"dataframe\">\n",
       "  <thead>\n",
       "    <tr style=\"text-align: right;\">\n",
       "      <th></th>\n",
       "      <th>organization_id</th>\n",
       "      <th>organization_name</th>\n",
       "      <th>organization_address</th>\n",
       "      <th>organization_phone_area_code</th>\n",
       "      <th>organization_phone_number</th>\n",
       "      <th>organization_fax_area_code</th>\n",
       "      <th>organization_fax_number</th>\n",
       "    </tr>\n",
       "  </thead>\n",
       "  <tbody>\n",
       "    <tr>\n",
       "      <th>0</th>\n",
       "      <td>1</td>\n",
       "      <td>CENTURY 21 BAMBER REALTY LTD.</td>\n",
       "      <td>1612 - 17 AVENUE S.W.|CALGARY, Alberta T2T0E3</td>\n",
       "      <td>403.0</td>\n",
       "      <td>245-0773</td>\n",
       "      <td>403.0</td>\n",
       "      <td>229-0239</td>\n",
       "    </tr>\n",
       "    <tr>\n",
       "      <th>1</th>\n",
       "      <td>2</td>\n",
       "      <td>2% REALTY</td>\n",
       "      <td>400, 909 17 Ave S.W.|CALGARY, Alberta T2T0A4</td>\n",
       "      <td>403.0</td>\n",
       "      <td>606-3500</td>\n",
       "      <td>888.0</td>\n",
       "      <td>239-4659</td>\n",
       "    </tr>\n",
       "    <tr>\n",
       "      <th>2</th>\n",
       "      <td>3</td>\n",
       "      <td>MAXWELL CAPITAL REALTY</td>\n",
       "      <td>#150 - 75 CROWFOOT RISE N.W.|CALGARY, Alberta ...</td>\n",
       "      <td>403.0</td>\n",
       "      <td>282-7770</td>\n",
       "      <td>403.0</td>\n",
       "      <td>282-6299</td>\n",
       "    </tr>\n",
       "    <tr>\n",
       "      <th>3</th>\n",
       "      <td>4</td>\n",
       "      <td>EXP REALTY</td>\n",
       "      <td>280 23 SUNPARK DRIVE SE|CALGARY, Alberta T2X3V1</td>\n",
       "      <td>403.0</td>\n",
       "      <td>262-7653</td>\n",
       "      <td>403.0</td>\n",
       "      <td>648-2765</td>\n",
       "    </tr>\n",
       "    <tr>\n",
       "      <th>4</th>\n",
       "      <td>5</td>\n",
       "      <td>CIR REALTY</td>\n",
       "      <td>130, 703 - 64 AVENUE SE|CALGARY, Alberta T2H2C3</td>\n",
       "      <td>403.0</td>\n",
       "      <td>271-0600</td>\n",
       "      <td>403.0</td>\n",
       "      <td>271-5909</td>\n",
       "    </tr>\n",
       "    <tr>\n",
       "      <th>...</th>\n",
       "      <td>...</td>\n",
       "      <td>...</td>\n",
       "      <td>...</td>\n",
       "      <td>...</td>\n",
       "      <td>...</td>\n",
       "      <td>...</td>\n",
       "      <td>...</td>\n",
       "    </tr>\n",
       "    <tr>\n",
       "      <th>4048</th>\n",
       "      <td>4049</td>\n",
       "      <td>Sutton - Harrison Realty</td>\n",
       "      <td>1103 Broadway Avenue|Moosomin, Saskatchewan S0...</td>\n",
       "      <td>204.0</td>\n",
       "      <td>571-5900</td>\n",
       "      <td>204.0</td>\n",
       "      <td>571-5905</td>\n",
       "    </tr>\n",
       "    <tr>\n",
       "      <th>4049</th>\n",
       "      <td>4050</td>\n",
       "      <td>RE/MAX ACTION REALTY</td>\n",
       "      <td>400-4201 4th Ave|Whitehorse, Yukon Y1A5A1</td>\n",
       "      <td>867.0</td>\n",
       "      <td>667-2514</td>\n",
       "      <td>867.0</td>\n",
       "      <td>667-7132</td>\n",
       "    </tr>\n",
       "    <tr>\n",
       "      <th>4050</th>\n",
       "      <td>4051</td>\n",
       "      <td>COLDWELL BANKER REDWOOD REALTY</td>\n",
       "      <td>4150 4th Avenue|Whitehorse, Yukon Y1A1J2</td>\n",
       "      <td>867.0</td>\n",
       "      <td>668-3500</td>\n",
       "      <td>No</td>\n",
       "      <td>No</td>\n",
       "    </tr>\n",
       "    <tr>\n",
       "      <th>4051</th>\n",
       "      <td>4052</td>\n",
       "      <td>URBAN REALTY GROUP</td>\n",
       "      <td>2054 Second Avenue|Whitehorse, YT, Yukon Y1A1A8</td>\n",
       "      <td>867.0</td>\n",
       "      <td>322-8726</td>\n",
       "      <td>No</td>\n",
       "      <td>No</td>\n",
       "    </tr>\n",
       "    <tr>\n",
       "      <th>4052</th>\n",
       "      <td>4053</td>\n",
       "      <td>2% Realty Midnight Sun</td>\n",
       "      <td>Suite 204 - 211 Main St|Whitehorse, Yukon Y1A2B2</td>\n",
       "      <td>867.0</td>\n",
       "      <td>333-9242</td>\n",
       "      <td>No</td>\n",
       "      <td>No</td>\n",
       "    </tr>\n",
       "  </tbody>\n",
       "</table>\n",
       "<p>4053 rows × 7 columns</p>\n",
       "</div>"
      ],
      "text/plain": [
       "      organization_id               organization_name  \\\n",
       "0                   1   CENTURY 21 BAMBER REALTY LTD.   \n",
       "1                   2                       2% REALTY   \n",
       "2                   3          MAXWELL CAPITAL REALTY   \n",
       "3                   4                      EXP REALTY   \n",
       "4                   5                      CIR REALTY   \n",
       "...               ...                             ...   \n",
       "4048             4049        Sutton - Harrison Realty   \n",
       "4049             4050            RE/MAX ACTION REALTY   \n",
       "4050             4051  COLDWELL BANKER REDWOOD REALTY   \n",
       "4051             4052              URBAN REALTY GROUP   \n",
       "4052             4053          2% Realty Midnight Sun   \n",
       "\n",
       "                                   organization_address  \\\n",
       "0         1612 - 17 AVENUE S.W.|CALGARY, Alberta T2T0E3   \n",
       "1          400, 909 17 Ave S.W.|CALGARY, Alberta T2T0A4   \n",
       "2     #150 - 75 CROWFOOT RISE N.W.|CALGARY, Alberta ...   \n",
       "3       280 23 SUNPARK DRIVE SE|CALGARY, Alberta T2X3V1   \n",
       "4       130, 703 - 64 AVENUE SE|CALGARY, Alberta T2H2C3   \n",
       "...                                                 ...   \n",
       "4048  1103 Broadway Avenue|Moosomin, Saskatchewan S0...   \n",
       "4049          400-4201 4th Ave|Whitehorse, Yukon Y1A5A1   \n",
       "4050           4150 4th Avenue|Whitehorse, Yukon Y1A1J2   \n",
       "4051    2054 Second Avenue|Whitehorse, YT, Yukon Y1A1A8   \n",
       "4052   Suite 204 - 211 Main St|Whitehorse, Yukon Y1A2B2   \n",
       "\n",
       "     organization_phone_area_code organization_phone_number  \\\n",
       "0                           403.0                  245-0773   \n",
       "1                           403.0                  606-3500   \n",
       "2                           403.0                  282-7770   \n",
       "3                           403.0                  262-7653   \n",
       "4                           403.0                  271-0600   \n",
       "...                           ...                       ...   \n",
       "4048                        204.0                  571-5900   \n",
       "4049                        867.0                  667-2514   \n",
       "4050                        867.0                  668-3500   \n",
       "4051                        867.0                  322-8726   \n",
       "4052                        867.0                  333-9242   \n",
       "\n",
       "     organization_fax_area_code organization_fax_number  \n",
       "0                         403.0                229-0239  \n",
       "1                         888.0                239-4659  \n",
       "2                         403.0                282-6299  \n",
       "3                         403.0                648-2765  \n",
       "4                         403.0                271-5909  \n",
       "...                         ...                     ...  \n",
       "4048                      204.0                571-5905  \n",
       "4049                      867.0                667-7132  \n",
       "4050                         No                      No  \n",
       "4051                         No                      No  \n",
       "4052                         No                      No  \n",
       "\n",
       "[4053 rows x 7 columns]"
      ]
     },
     "execution_count": 27,
     "metadata": {},
     "output_type": "execute_result"
    }
   ],
   "source": [
    "Organizations"
   ]
  },
  {
   "cell_type": "code",
   "execution_count": 28,
   "id": "transsexual-findings",
   "metadata": {},
   "outputs": [
    {
     "name": "stdout",
     "output_type": "stream",
     "text": [
      "organization_id - <class 'numpy.int64'>\n",
      "organization_name - <class 'str'>\n",
      "organization_address - <class 'str'>\n",
      "organization_phone_area_code - <class 'str'>\n",
      "organization_phone_number - <class 'str'>\n",
      "organization_fax_area_code - <class 'str'>\n",
      "organization_fax_number - <class 'str'>\n"
     ]
    }
   ],
   "source": [
    "for column in Organizations:\n",
    "    print(column,'-',type(Organizations[column][0]))"
   ]
  },
  {
   "cell_type": "code",
   "execution_count": 29,
   "id": "alpha-syracuse",
   "metadata": {},
   "outputs": [],
   "source": [
    "# Everything is OK"
   ]
  },
  {
   "cell_type": "markdown",
   "id": "pleasant-slovakia",
   "metadata": {},
   "source": [
    "# 8.Positions"
   ]
  },
  {
   "cell_type": "code",
   "execution_count": 30,
   "id": "collected-month",
   "metadata": {},
   "outputs": [],
   "source": [
    "Positions = pd.read_csv(r\"C:\\Users\\dell\\Dropbox\\My PC (DESKTOP-LL2SGK9)\\Desktop\\Data Engineering ACA\\Project\\Third_draft_of_the_project\\Realtor_tables\\static_tables\\8.Positions.csv\")"
   ]
  },
  {
   "cell_type": "code",
   "execution_count": 31,
   "id": "addressed-alexandria",
   "metadata": {},
   "outputs": [
    {
     "data": {
      "text/html": [
       "<div>\n",
       "<style scoped>\n",
       "    .dataframe tbody tr th:only-of-type {\n",
       "        vertical-align: middle;\n",
       "    }\n",
       "\n",
       "    .dataframe tbody tr th {\n",
       "        vertical-align: top;\n",
       "    }\n",
       "\n",
       "    .dataframe thead th {\n",
       "        text-align: right;\n",
       "    }\n",
       "</style>\n",
       "<table border=\"1\" class=\"dataframe\">\n",
       "  <thead>\n",
       "    <tr style=\"text-align: right;\">\n",
       "      <th></th>\n",
       "      <th>position_id</th>\n",
       "      <th>name</th>\n",
       "    </tr>\n",
       "  </thead>\n",
       "  <tbody>\n",
       "    <tr>\n",
       "      <th>0</th>\n",
       "      <td>1</td>\n",
       "      <td>Associate</td>\n",
       "    </tr>\n",
       "    <tr>\n",
       "      <th>1</th>\n",
       "      <td>2</td>\n",
       "      <td>Broker of Record</td>\n",
       "    </tr>\n",
       "    <tr>\n",
       "      <th>2</th>\n",
       "      <td>3</td>\n",
       "      <td>Associate Broker</td>\n",
       "    </tr>\n",
       "    <tr>\n",
       "      <th>3</th>\n",
       "      <td>4</td>\n",
       "      <td>Broker</td>\n",
       "    </tr>\n",
       "    <tr>\n",
       "      <th>4</th>\n",
       "      <td>5</td>\n",
       "      <td>Manager</td>\n",
       "    </tr>\n",
       "    <tr>\n",
       "      <th>5</th>\n",
       "      <td>6</td>\n",
       "      <td>Personal Real Estate Corporation</td>\n",
       "    </tr>\n",
       "    <tr>\n",
       "      <th>6</th>\n",
       "      <td>7</td>\n",
       "      <td>Salesperson</td>\n",
       "    </tr>\n",
       "    <tr>\n",
       "      <th>7</th>\n",
       "      <td>8</td>\n",
       "      <td>Broker Manager</td>\n",
       "    </tr>\n",
       "    <tr>\n",
       "      <th>8</th>\n",
       "      <td>9</td>\n",
       "      <td>Real Estate Broker</td>\n",
       "    </tr>\n",
       "    <tr>\n",
       "      <th>9</th>\n",
       "      <td>10</td>\n",
       "      <td>Certified Real Estate Broker</td>\n",
       "    </tr>\n",
       "    <tr>\n",
       "      <th>10</th>\n",
       "      <td>11</td>\n",
       "      <td>Associate Manager</td>\n",
       "    </tr>\n",
       "    <tr>\n",
       "      <th>11</th>\n",
       "      <td>12</td>\n",
       "      <td>Agent Manager</td>\n",
       "    </tr>\n",
       "    <tr>\n",
       "      <th>12</th>\n",
       "      <td>13</td>\n",
       "      <td>Broker Owner</td>\n",
       "    </tr>\n",
       "    <tr>\n",
       "      <th>13</th>\n",
       "      <td>14</td>\n",
       "      <td>Residential Real Estate Broker</td>\n",
       "    </tr>\n",
       "    <tr>\n",
       "      <th>14</th>\n",
       "      <td>15</td>\n",
       "      <td>Sales Person</td>\n",
       "    </tr>\n",
       "    <tr>\n",
       "      <th>15</th>\n",
       "      <td>16</td>\n",
       "      <td>Chartered Real Estate Broker</td>\n",
       "    </tr>\n",
       "    <tr>\n",
       "      <th>16</th>\n",
       "      <td>17</td>\n",
       "      <td>REALTOR®</td>\n",
       "    </tr>\n",
       "    <tr>\n",
       "      <th>17</th>\n",
       "      <td>18</td>\n",
       "      <td>Real Estate Sales Representative</td>\n",
       "    </tr>\n",
       "    <tr>\n",
       "      <th>18</th>\n",
       "      <td>19</td>\n",
       "      <td>REALTOR® Salesperson</td>\n",
       "    </tr>\n",
       "    <tr>\n",
       "      <th>19</th>\n",
       "      <td>20</td>\n",
       "      <td>Real Estate Agent</td>\n",
       "    </tr>\n",
       "    <tr>\n",
       "      <th>20</th>\n",
       "      <td>21</td>\n",
       "      <td>Commercial Real Estate Broker</td>\n",
       "    </tr>\n",
       "  </tbody>\n",
       "</table>\n",
       "</div>"
      ],
      "text/plain": [
       "    position_id                              name\n",
       "0             1                         Associate\n",
       "1             2                  Broker of Record\n",
       "2             3                  Associate Broker\n",
       "3             4                            Broker\n",
       "4             5                           Manager\n",
       "5             6  Personal Real Estate Corporation\n",
       "6             7                       Salesperson\n",
       "7             8                    Broker Manager\n",
       "8             9                Real Estate Broker\n",
       "9            10      Certified Real Estate Broker\n",
       "10           11                 Associate Manager\n",
       "11           12                     Agent Manager\n",
       "12           13                      Broker Owner\n",
       "13           14    Residential Real Estate Broker\n",
       "14           15                      Sales Person\n",
       "15           16      Chartered Real Estate Broker\n",
       "16           17                          REALTOR®\n",
       "17           18  Real Estate Sales Representative\n",
       "18           19              REALTOR® Salesperson\n",
       "19           20                 Real Estate Agent\n",
       "20           21     Commercial Real Estate Broker"
      ]
     },
     "execution_count": 31,
     "metadata": {},
     "output_type": "execute_result"
    }
   ],
   "source": [
    "Positions"
   ]
  },
  {
   "cell_type": "code",
   "execution_count": 32,
   "id": "younger-palmer",
   "metadata": {},
   "outputs": [
    {
     "name": "stdout",
     "output_type": "stream",
     "text": [
      "position_id - <class 'numpy.int64'>\n",
      "name - <class 'str'>\n"
     ]
    }
   ],
   "source": [
    "for column in Positions:\n",
    "    print(column,'-',type(Positions[column][0]))"
   ]
  },
  {
   "cell_type": "code",
   "execution_count": 33,
   "id": "exciting-relationship",
   "metadata": {},
   "outputs": [],
   "source": [
    "# Everything is OK"
   ]
  },
  {
   "cell_type": "markdown",
   "id": "grave-andorra",
   "metadata": {},
   "source": [
    "# 9.Jobs"
   ]
  },
  {
   "cell_type": "code",
   "execution_count": 34,
   "id": "advanced-artist",
   "metadata": {},
   "outputs": [],
   "source": [
    "Jobs = pd.read_csv(r\"C:\\Users\\dell\\Dropbox\\My PC (DESKTOP-LL2SGK9)\\Desktop\\Data Engineering ACA\\Project\\Third_draft_of_the_project\\Realtor_tables\\static_tables\\9.Jobs.csv\")"
   ]
  },
  {
   "cell_type": "code",
   "execution_count": 35,
   "id": "distributed-chase",
   "metadata": {},
   "outputs": [
    {
     "data": {
      "text/html": [
       "<div>\n",
       "<style scoped>\n",
       "    .dataframe tbody tr th:only-of-type {\n",
       "        vertical-align: middle;\n",
       "    }\n",
       "\n",
       "    .dataframe tbody tr th {\n",
       "        vertical-align: top;\n",
       "    }\n",
       "\n",
       "    .dataframe thead th {\n",
       "        text-align: right;\n",
       "    }\n",
       "</style>\n",
       "<table border=\"1\" class=\"dataframe\">\n",
       "  <thead>\n",
       "    <tr style=\"text-align: right;\">\n",
       "      <th></th>\n",
       "      <th>job_id</th>\n",
       "      <th>name</th>\n",
       "      <th>wages ($/hour)</th>\n",
       "    </tr>\n",
       "  </thead>\n",
       "  <tbody>\n",
       "    <tr>\n",
       "      <th>0</th>\n",
       "      <td>1</td>\n",
       "      <td>Senior government managers and officials  (0012)</td>\n",
       "      <td>55.00</td>\n",
       "    </tr>\n",
       "    <tr>\n",
       "      <th>1</th>\n",
       "      <td>2</td>\n",
       "      <td>Senior managers - financial, communications an...</td>\n",
       "      <td>63.46</td>\n",
       "    </tr>\n",
       "    <tr>\n",
       "      <th>2</th>\n",
       "      <td>3</td>\n",
       "      <td>Senior managers - health, education, social an...</td>\n",
       "      <td>53.46</td>\n",
       "    </tr>\n",
       "    <tr>\n",
       "      <th>3</th>\n",
       "      <td>4</td>\n",
       "      <td>Senior managers - trade, broadcasting and othe...</td>\n",
       "      <td>56.37</td>\n",
       "    </tr>\n",
       "    <tr>\n",
       "      <th>4</th>\n",
       "      <td>5</td>\n",
       "      <td>Senior managers - construction, transportation...</td>\n",
       "      <td>57.03</td>\n",
       "    </tr>\n",
       "    <tr>\n",
       "      <th>...</th>\n",
       "      <td>...</td>\n",
       "      <td>...</td>\n",
       "      <td>...</td>\n",
       "    </tr>\n",
       "    <tr>\n",
       "      <th>426</th>\n",
       "      <td>427</td>\n",
       "      <td>Labourers in chemical products processing and ...</td>\n",
       "      <td>20.85</td>\n",
       "    </tr>\n",
       "    <tr>\n",
       "      <th>427</th>\n",
       "      <td>428</td>\n",
       "      <td>Labourers in wood, pulp and paper processing  ...</td>\n",
       "      <td>16.78</td>\n",
       "    </tr>\n",
       "    <tr>\n",
       "      <th>428</th>\n",
       "      <td>429</td>\n",
       "      <td>Labourers in rubber and plastic products manuf...</td>\n",
       "      <td>17.50</td>\n",
       "    </tr>\n",
       "    <tr>\n",
       "      <th>429</th>\n",
       "      <td>430</td>\n",
       "      <td>Labourers in food and beverage processing  (9617)</td>\n",
       "      <td>16.00</td>\n",
       "    </tr>\n",
       "    <tr>\n",
       "      <th>430</th>\n",
       "      <td>431</td>\n",
       "      <td>Other labourers in processing, manufacturing a...</td>\n",
       "      <td>15.60</td>\n",
       "    </tr>\n",
       "  </tbody>\n",
       "</table>\n",
       "<p>431 rows × 3 columns</p>\n",
       "</div>"
      ],
      "text/plain": [
       "     job_id                                               name  wages ($/hour)\n",
       "0         1   Senior government managers and officials  (0012)           55.00\n",
       "1         2  Senior managers - financial, communications an...           63.46\n",
       "2         3  Senior managers - health, education, social an...           53.46\n",
       "3         4  Senior managers - trade, broadcasting and othe...           56.37\n",
       "4         5  Senior managers - construction, transportation...           57.03\n",
       "..      ...                                                ...             ...\n",
       "426     427  Labourers in chemical products processing and ...           20.85\n",
       "427     428  Labourers in wood, pulp and paper processing  ...           16.78\n",
       "428     429  Labourers in rubber and plastic products manuf...           17.50\n",
       "429     430  Labourers in food and beverage processing  (9617)           16.00\n",
       "430     431  Other labourers in processing, manufacturing a...           15.60\n",
       "\n",
       "[431 rows x 3 columns]"
      ]
     },
     "execution_count": 35,
     "metadata": {},
     "output_type": "execute_result"
    }
   ],
   "source": [
    "Jobs"
   ]
  },
  {
   "cell_type": "code",
   "execution_count": 37,
   "id": "suburban-investor",
   "metadata": {},
   "outputs": [
    {
     "name": "stdout",
     "output_type": "stream",
     "text": [
      "job_id - <class 'numpy.int64'>\n",
      "name - <class 'str'>\n",
      "wages ($/hour) - <class 'numpy.float64'>\n"
     ]
    }
   ],
   "source": [
    "for column in Jobs:\n",
    "    print(column,'-',type(Jobs[column][0]))"
   ]
  },
  {
   "cell_type": "code",
   "execution_count": 38,
   "id": "above-accident",
   "metadata": {},
   "outputs": [],
   "source": [
    "# Everything is OK"
   ]
  },
  {
   "cell_type": "markdown",
   "id": "appreciated-sleeve",
   "metadata": {},
   "source": [
    "# 10.Marital_status"
   ]
  },
  {
   "cell_type": "code",
   "execution_count": 39,
   "id": "alive-example",
   "metadata": {},
   "outputs": [],
   "source": [
    "Marital_status = pd.read_csv(r\"C:\\Users\\dell\\Dropbox\\My PC (DESKTOP-LL2SGK9)\\Desktop\\Data Engineering ACA\\Project\\Third_draft_of_the_project\\Realtor_tables\\static_tables\\10.Marital_status.csv\")"
   ]
  },
  {
   "cell_type": "code",
   "execution_count": 40,
   "id": "abroad-likelihood",
   "metadata": {},
   "outputs": [
    {
     "data": {
      "text/html": [
       "<div>\n",
       "<style scoped>\n",
       "    .dataframe tbody tr th:only-of-type {\n",
       "        vertical-align: middle;\n",
       "    }\n",
       "\n",
       "    .dataframe tbody tr th {\n",
       "        vertical-align: top;\n",
       "    }\n",
       "\n",
       "    .dataframe thead th {\n",
       "        text-align: right;\n",
       "    }\n",
       "</style>\n",
       "<table border=\"1\" class=\"dataframe\">\n",
       "  <thead>\n",
       "    <tr style=\"text-align: right;\">\n",
       "      <th></th>\n",
       "      <th>marital_status_id</th>\n",
       "      <th>name</th>\n",
       "    </tr>\n",
       "  </thead>\n",
       "  <tbody>\n",
       "    <tr>\n",
       "      <th>0</th>\n",
       "      <td>1</td>\n",
       "      <td>single</td>\n",
       "    </tr>\n",
       "    <tr>\n",
       "      <th>1</th>\n",
       "      <td>2</td>\n",
       "      <td>married</td>\n",
       "    </tr>\n",
       "    <tr>\n",
       "      <th>2</th>\n",
       "      <td>3</td>\n",
       "      <td>separated</td>\n",
       "    </tr>\n",
       "    <tr>\n",
       "      <th>3</th>\n",
       "      <td>4</td>\n",
       "      <td>divorced</td>\n",
       "    </tr>\n",
       "    <tr>\n",
       "      <th>4</th>\n",
       "      <td>5</td>\n",
       "      <td>widowed</td>\n",
       "    </tr>\n",
       "  </tbody>\n",
       "</table>\n",
       "</div>"
      ],
      "text/plain": [
       "   marital_status_id       name\n",
       "0                  1     single\n",
       "1                  2    married\n",
       "2                  3  separated\n",
       "3                  4   divorced\n",
       "4                  5    widowed"
      ]
     },
     "execution_count": 40,
     "metadata": {},
     "output_type": "execute_result"
    }
   ],
   "source": [
    "Marital_status"
   ]
  },
  {
   "cell_type": "code",
   "execution_count": 41,
   "id": "hydraulic-hunter",
   "metadata": {},
   "outputs": [
    {
     "name": "stdout",
     "output_type": "stream",
     "text": [
      "marital_status_id - <class 'numpy.int64'>\n",
      "name - <class 'str'>\n"
     ]
    }
   ],
   "source": [
    "for column in Marital_status:\n",
    "    print(column,'-',type(Marital_status[column][0]))"
   ]
  },
  {
   "cell_type": "code",
   "execution_count": 42,
   "id": "constant-retail",
   "metadata": {},
   "outputs": [],
   "source": [
    "# Everything is OK"
   ]
  },
  {
   "cell_type": "markdown",
   "id": "amber-arcade",
   "metadata": {},
   "source": [
    "# 11.Relationship_result"
   ]
  },
  {
   "cell_type": "code",
   "execution_count": 43,
   "id": "geographic-surrey",
   "metadata": {},
   "outputs": [],
   "source": [
    "Relationship_result = pd.read_csv(r\"C:\\Users\\dell\\Dropbox\\My PC (DESKTOP-LL2SGK9)\\Desktop\\Data Engineering ACA\\Project\\Third_draft_of_the_project\\Realtor_tables\\static_tables\\11.Relationship_result.csv\")"
   ]
  },
  {
   "cell_type": "code",
   "execution_count": 44,
   "id": "distinguished-questionnaire",
   "metadata": {},
   "outputs": [
    {
     "data": {
      "text/html": [
       "<div>\n",
       "<style scoped>\n",
       "    .dataframe tbody tr th:only-of-type {\n",
       "        vertical-align: middle;\n",
       "    }\n",
       "\n",
       "    .dataframe tbody tr th {\n",
       "        vertical-align: top;\n",
       "    }\n",
       "\n",
       "    .dataframe thead th {\n",
       "        text-align: right;\n",
       "    }\n",
       "</style>\n",
       "<table border=\"1\" class=\"dataframe\">\n",
       "  <thead>\n",
       "    <tr style=\"text-align: right;\">\n",
       "      <th></th>\n",
       "      <th>relationship_result_id</th>\n",
       "      <th>name</th>\n",
       "    </tr>\n",
       "  </thead>\n",
       "  <tbody>\n",
       "    <tr>\n",
       "      <th>0</th>\n",
       "      <td>1</td>\n",
       "      <td>in touch</td>\n",
       "    </tr>\n",
       "    <tr>\n",
       "      <th>1</th>\n",
       "      <td>2</td>\n",
       "      <td>success</td>\n",
       "    </tr>\n",
       "    <tr>\n",
       "      <th>2</th>\n",
       "      <td>3</td>\n",
       "      <td>fail</td>\n",
       "    </tr>\n",
       "  </tbody>\n",
       "</table>\n",
       "</div>"
      ],
      "text/plain": [
       "   relationship_result_id      name\n",
       "0                       1  in touch\n",
       "1                       2   success\n",
       "2                       3      fail"
      ]
     },
     "execution_count": 44,
     "metadata": {},
     "output_type": "execute_result"
    }
   ],
   "source": [
    "Relationship_result"
   ]
  },
  {
   "cell_type": "code",
   "execution_count": 45,
   "id": "transsexual-offense",
   "metadata": {},
   "outputs": [
    {
     "name": "stdout",
     "output_type": "stream",
     "text": [
      "relationship_result_id - <class 'numpy.int64'>\n",
      "name - <class 'str'>\n"
     ]
    }
   ],
   "source": [
    "for column in Relationship_result:\n",
    "    print(column,'-',type(Relationship_result[column][0]))"
   ]
  },
  {
   "cell_type": "code",
   "execution_count": 46,
   "id": "offshore-europe",
   "metadata": {},
   "outputs": [],
   "source": [
    "# Everything is OK"
   ]
  },
  {
   "cell_type": "markdown",
   "id": "standard-politics",
   "metadata": {},
   "source": [
    "# 12.Brokers"
   ]
  },
  {
   "cell_type": "code",
   "execution_count": 47,
   "id": "yellow-recording",
   "metadata": {},
   "outputs": [],
   "source": [
    "Brokers = pd.read_csv(r\"C:\\Users\\dell\\Dropbox\\My PC (DESKTOP-LL2SGK9)\\Desktop\\Data Engineering ACA\\Project\\Third_draft_of_the_project\\Realtor_tables\\static_tables\\12.Brokers.csv\")"
   ]
  },
  {
   "cell_type": "code",
   "execution_count": 48,
   "id": "yellow-leather",
   "metadata": {},
   "outputs": [
    {
     "data": {
      "text/html": [
       "<div>\n",
       "<style scoped>\n",
       "    .dataframe tbody tr th:only-of-type {\n",
       "        vertical-align: middle;\n",
       "    }\n",
       "\n",
       "    .dataframe tbody tr th {\n",
       "        vertical-align: top;\n",
       "    }\n",
       "\n",
       "    .dataframe thead th {\n",
       "        text-align: right;\n",
       "    }\n",
       "</style>\n",
       "<table border=\"1\" class=\"dataframe\">\n",
       "  <thead>\n",
       "    <tr style=\"text-align: right;\">\n",
       "      <th></th>\n",
       "      <th>broker_id</th>\n",
       "      <th>first_name</th>\n",
       "      <th>last_name</th>\n",
       "      <th>organization_id</th>\n",
       "      <th>position_id</th>\n",
       "      <th>broker_area_code</th>\n",
       "      <th>broker_phone_number</th>\n",
       "    </tr>\n",
       "  </thead>\n",
       "  <tbody>\n",
       "    <tr>\n",
       "      <th>0</th>\n",
       "      <td>1</td>\n",
       "      <td>Farrah</td>\n",
       "      <td>Khoja</td>\n",
       "      <td>1</td>\n",
       "      <td>1</td>\n",
       "      <td>403</td>\n",
       "      <td>923-9445</td>\n",
       "    </tr>\n",
       "    <tr>\n",
       "      <th>1</th>\n",
       "      <td>2</td>\n",
       "      <td>Erick</td>\n",
       "      <td>Dillmann</td>\n",
       "      <td>2</td>\n",
       "      <td>1</td>\n",
       "      <td>403</td>\n",
       "      <td>828-1120</td>\n",
       "    </tr>\n",
       "    <tr>\n",
       "      <th>2</th>\n",
       "      <td>3</td>\n",
       "      <td>Anna</td>\n",
       "      <td>Pitt</td>\n",
       "      <td>3</td>\n",
       "      <td>1</td>\n",
       "      <td>403</td>\n",
       "      <td>605-7073</td>\n",
       "    </tr>\n",
       "    <tr>\n",
       "      <th>3</th>\n",
       "      <td>4</td>\n",
       "      <td>Glenn</td>\n",
       "      <td>Heslop</td>\n",
       "      <td>4</td>\n",
       "      <td>1</td>\n",
       "      <td>403</td>\n",
       "      <td>826-5693</td>\n",
       "    </tr>\n",
       "    <tr>\n",
       "      <th>4</th>\n",
       "      <td>5</td>\n",
       "      <td>Ryan</td>\n",
       "      <td>Smith</td>\n",
       "      <td>5</td>\n",
       "      <td>1</td>\n",
       "      <td>403</td>\n",
       "      <td>700-9737</td>\n",
       "    </tr>\n",
       "    <tr>\n",
       "      <th>...</th>\n",
       "      <td>...</td>\n",
       "      <td>...</td>\n",
       "      <td>...</td>\n",
       "      <td>...</td>\n",
       "      <td>...</td>\n",
       "      <td>...</td>\n",
       "      <td>...</td>\n",
       "    </tr>\n",
       "    <tr>\n",
       "      <th>19357</th>\n",
       "      <td>19358</td>\n",
       "      <td>MIKE</td>\n",
       "      <td>RACZ</td>\n",
       "      <td>3258</td>\n",
       "      <td>4</td>\n",
       "      <td>867</td>\n",
       "      <td>333-6410</td>\n",
       "    </tr>\n",
       "    <tr>\n",
       "      <th>19358</th>\n",
       "      <td>19359</td>\n",
       "      <td>Judy</td>\n",
       "      <td>Freake</td>\n",
       "      <td>3261</td>\n",
       "      <td>4</td>\n",
       "      <td>867</td>\n",
       "      <td>336-0631</td>\n",
       "    </tr>\n",
       "    <tr>\n",
       "      <th>19359</th>\n",
       "      <td>19360</td>\n",
       "      <td>Wendy</td>\n",
       "      <td>Close</td>\n",
       "      <td>3258</td>\n",
       "      <td>4</td>\n",
       "      <td>867</td>\n",
       "      <td>667-7239</td>\n",
       "    </tr>\n",
       "    <tr>\n",
       "      <th>19360</th>\n",
       "      <td>19361</td>\n",
       "      <td>Tamara</td>\n",
       "      <td>Cromarty</td>\n",
       "      <td>3259</td>\n",
       "      <td>4</td>\n",
       "      <td>867</td>\n",
       "      <td>334-9476</td>\n",
       "    </tr>\n",
       "    <tr>\n",
       "      <th>19361</th>\n",
       "      <td>19362</td>\n",
       "      <td>Jacklyn</td>\n",
       "      <td>Stockstill</td>\n",
       "      <td>3259</td>\n",
       "      <td>4</td>\n",
       "      <td>867</td>\n",
       "      <td>336-8001</td>\n",
       "    </tr>\n",
       "  </tbody>\n",
       "</table>\n",
       "<p>19362 rows × 7 columns</p>\n",
       "</div>"
      ],
      "text/plain": [
       "       broker_id first_name   last_name  organization_id  position_id  \\\n",
       "0              1     Farrah       Khoja                1            1   \n",
       "1              2      Erick    Dillmann                2            1   \n",
       "2              3       Anna        Pitt                3            1   \n",
       "3              4      Glenn      Heslop                4            1   \n",
       "4              5       Ryan       Smith                5            1   \n",
       "...          ...        ...         ...              ...          ...   \n",
       "19357      19358       MIKE        RACZ             3258            4   \n",
       "19358      19359       Judy      Freake             3261            4   \n",
       "19359      19360      Wendy       Close             3258            4   \n",
       "19360      19361     Tamara    Cromarty             3259            4   \n",
       "19361      19362    Jacklyn  Stockstill             3259            4   \n",
       "\n",
       "       broker_area_code broker_phone_number  \n",
       "0                   403            923-9445  \n",
       "1                   403            828-1120  \n",
       "2                   403            605-7073  \n",
       "3                   403            826-5693  \n",
       "4                   403            700-9737  \n",
       "...                 ...                 ...  \n",
       "19357               867            333-6410  \n",
       "19358               867            336-0631  \n",
       "19359               867            667-7239  \n",
       "19360               867            334-9476  \n",
       "19361               867            336-8001  \n",
       "\n",
       "[19362 rows x 7 columns]"
      ]
     },
     "execution_count": 48,
     "metadata": {},
     "output_type": "execute_result"
    }
   ],
   "source": [
    "Brokers"
   ]
  },
  {
   "cell_type": "code",
   "execution_count": 49,
   "id": "requested-uniform",
   "metadata": {},
   "outputs": [
    {
     "name": "stdout",
     "output_type": "stream",
     "text": [
      "broker_id - <class 'numpy.int64'>\n",
      "first_name - <class 'str'>\n",
      "last_name - <class 'str'>\n",
      "organization_id - <class 'numpy.int64'>\n",
      "position_id - <class 'numpy.int64'>\n",
      "broker_area_code - <class 'numpy.int64'>\n",
      "broker_phone_number - <class 'str'>\n"
     ]
    }
   ],
   "source": [
    "for column in Brokers:\n",
    "    print(column,'-',type(Brokers[column][0]))"
   ]
  },
  {
   "cell_type": "code",
   "execution_count": 50,
   "id": "recovered-actress",
   "metadata": {},
   "outputs": [],
   "source": [
    "# Everything is OK"
   ]
  },
  {
   "cell_type": "markdown",
   "id": "statutory-channel",
   "metadata": {},
   "source": [
    "# 13.Buyers"
   ]
  },
  {
   "cell_type": "code",
   "execution_count": 51,
   "id": "detected-ability",
   "metadata": {},
   "outputs": [],
   "source": [
    "Buyers = pd.read_csv(r\"C:\\Users\\dell\\Dropbox\\My PC (DESKTOP-LL2SGK9)\\Desktop\\Data Engineering ACA\\Project\\Third_draft_of_the_project\\Realtor_tables\\static_tables\\13.Buyers.csv\")"
   ]
  },
  {
   "cell_type": "code",
   "execution_count": 52,
   "id": "italic-cigarette",
   "metadata": {},
   "outputs": [
    {
     "data": {
      "text/html": [
       "<div>\n",
       "<style scoped>\n",
       "    .dataframe tbody tr th:only-of-type {\n",
       "        vertical-align: middle;\n",
       "    }\n",
       "\n",
       "    .dataframe tbody tr th {\n",
       "        vertical-align: top;\n",
       "    }\n",
       "\n",
       "    .dataframe thead th {\n",
       "        text-align: right;\n",
       "    }\n",
       "</style>\n",
       "<table border=\"1\" class=\"dataframe\">\n",
       "  <thead>\n",
       "    <tr style=\"text-align: right;\">\n",
       "      <th></th>\n",
       "      <th>buyer_id</th>\n",
       "      <th>first_name</th>\n",
       "      <th>last_name</th>\n",
       "      <th>age</th>\n",
       "      <th>city_id</th>\n",
       "      <th>marital_status_id</th>\n",
       "      <th>job_id</th>\n",
       "      <th>buyer_area_code</th>\n",
       "      <th>buyer_phone_number</th>\n",
       "    </tr>\n",
       "  </thead>\n",
       "  <tbody>\n",
       "    <tr>\n",
       "      <th>0</th>\n",
       "      <td>1</td>\n",
       "      <td>John</td>\n",
       "      <td>Brooks</td>\n",
       "      <td>78</td>\n",
       "      <td>309</td>\n",
       "      <td>1</td>\n",
       "      <td>111</td>\n",
       "      <td>204</td>\n",
       "      <td>419-7489</td>\n",
       "    </tr>\n",
       "    <tr>\n",
       "      <th>1</th>\n",
       "      <td>2</td>\n",
       "      <td>Andrea</td>\n",
       "      <td>Baker</td>\n",
       "      <td>76</td>\n",
       "      <td>124</td>\n",
       "      <td>1</td>\n",
       "      <td>159</td>\n",
       "      <td>867</td>\n",
       "      <td>897-7410</td>\n",
       "    </tr>\n",
       "    <tr>\n",
       "      <th>2</th>\n",
       "      <td>3</td>\n",
       "      <td>Douglas</td>\n",
       "      <td>Bryant</td>\n",
       "      <td>33</td>\n",
       "      <td>236</td>\n",
       "      <td>1</td>\n",
       "      <td>219</td>\n",
       "      <td>403</td>\n",
       "      <td>987-1814</td>\n",
       "    </tr>\n",
       "    <tr>\n",
       "      <th>3</th>\n",
       "      <td>4</td>\n",
       "      <td>Dana</td>\n",
       "      <td>Thompson</td>\n",
       "      <td>29</td>\n",
       "      <td>290</td>\n",
       "      <td>1</td>\n",
       "      <td>375</td>\n",
       "      <td>250</td>\n",
       "      <td>360-6239</td>\n",
       "    </tr>\n",
       "    <tr>\n",
       "      <th>4</th>\n",
       "      <td>5</td>\n",
       "      <td>Kerry</td>\n",
       "      <td>Wheeler</td>\n",
       "      <td>30</td>\n",
       "      <td>161</td>\n",
       "      <td>4</td>\n",
       "      <td>118</td>\n",
       "      <td>780</td>\n",
       "      <td>193-5903</td>\n",
       "    </tr>\n",
       "    <tr>\n",
       "      <th>...</th>\n",
       "      <td>...</td>\n",
       "      <td>...</td>\n",
       "      <td>...</td>\n",
       "      <td>...</td>\n",
       "      <td>...</td>\n",
       "      <td>...</td>\n",
       "      <td>...</td>\n",
       "      <td>...</td>\n",
       "      <td>...</td>\n",
       "    </tr>\n",
       "    <tr>\n",
       "      <th>89995</th>\n",
       "      <td>89996</td>\n",
       "      <td>Andrew</td>\n",
       "      <td>Romero</td>\n",
       "      <td>41</td>\n",
       "      <td>193</td>\n",
       "      <td>2</td>\n",
       "      <td>25</td>\n",
       "      <td>250</td>\n",
       "      <td>797-6283</td>\n",
       "    </tr>\n",
       "    <tr>\n",
       "      <th>89996</th>\n",
       "      <td>89997</td>\n",
       "      <td>Erica</td>\n",
       "      <td>Gilbert</td>\n",
       "      <td>22</td>\n",
       "      <td>120</td>\n",
       "      <td>3</td>\n",
       "      <td>148</td>\n",
       "      <td>437</td>\n",
       "      <td>990-3446</td>\n",
       "    </tr>\n",
       "    <tr>\n",
       "      <th>89997</th>\n",
       "      <td>89998</td>\n",
       "      <td>Kristina</td>\n",
       "      <td>Fischer</td>\n",
       "      <td>43</td>\n",
       "      <td>148</td>\n",
       "      <td>3</td>\n",
       "      <td>425</td>\n",
       "      <td>306</td>\n",
       "      <td>173-8499</td>\n",
       "    </tr>\n",
       "    <tr>\n",
       "      <th>89998</th>\n",
       "      <td>89999</td>\n",
       "      <td>Allen</td>\n",
       "      <td>Bauer</td>\n",
       "      <td>28</td>\n",
       "      <td>119</td>\n",
       "      <td>1</td>\n",
       "      <td>400</td>\n",
       "      <td>450</td>\n",
       "      <td>314-2215</td>\n",
       "    </tr>\n",
       "    <tr>\n",
       "      <th>89999</th>\n",
       "      <td>90000</td>\n",
       "      <td>Jeffrey</td>\n",
       "      <td>Tyler</td>\n",
       "      <td>49</td>\n",
       "      <td>306</td>\n",
       "      <td>1</td>\n",
       "      <td>281</td>\n",
       "      <td>403</td>\n",
       "      <td>560-6022</td>\n",
       "    </tr>\n",
       "  </tbody>\n",
       "</table>\n",
       "<p>90000 rows × 9 columns</p>\n",
       "</div>"
      ],
      "text/plain": [
       "       buyer_id first_name last_name  age  city_id  marital_status_id  job_id  \\\n",
       "0             1       John    Brooks   78      309                  1     111   \n",
       "1             2     Andrea     Baker   76      124                  1     159   \n",
       "2             3    Douglas    Bryant   33      236                  1     219   \n",
       "3             4       Dana  Thompson   29      290                  1     375   \n",
       "4             5      Kerry   Wheeler   30      161                  4     118   \n",
       "...         ...        ...       ...  ...      ...                ...     ...   \n",
       "89995     89996     Andrew    Romero   41      193                  2      25   \n",
       "89996     89997      Erica   Gilbert   22      120                  3     148   \n",
       "89997     89998   Kristina   Fischer   43      148                  3     425   \n",
       "89998     89999      Allen     Bauer   28      119                  1     400   \n",
       "89999     90000    Jeffrey     Tyler   49      306                  1     281   \n",
       "\n",
       "       buyer_area_code buyer_phone_number  \n",
       "0                  204           419-7489  \n",
       "1                  867           897-7410  \n",
       "2                  403           987-1814  \n",
       "3                  250           360-6239  \n",
       "4                  780           193-5903  \n",
       "...                ...                ...  \n",
       "89995              250           797-6283  \n",
       "89996              437           990-3446  \n",
       "89997              306           173-8499  \n",
       "89998              450           314-2215  \n",
       "89999              403           560-6022  \n",
       "\n",
       "[90000 rows x 9 columns]"
      ]
     },
     "execution_count": 52,
     "metadata": {},
     "output_type": "execute_result"
    }
   ],
   "source": [
    "Buyers"
   ]
  },
  {
   "cell_type": "code",
   "execution_count": 53,
   "id": "controversial-awareness",
   "metadata": {},
   "outputs": [
    {
     "name": "stdout",
     "output_type": "stream",
     "text": [
      "buyer_id - <class 'numpy.int64'>\n",
      "first_name - <class 'str'>\n",
      "last_name - <class 'str'>\n",
      "age - <class 'numpy.int64'>\n",
      "city_id - <class 'numpy.int64'>\n",
      "marital_status_id - <class 'numpy.int64'>\n",
      "job_id - <class 'numpy.int64'>\n",
      "buyer_area_code - <class 'numpy.int64'>\n",
      "buyer_phone_number - <class 'str'>\n"
     ]
    }
   ],
   "source": [
    "for column in Buyers:\n",
    "    print(column,'-',type(Buyers[column][0]))"
   ]
  },
  {
   "cell_type": "code",
   "execution_count": 54,
   "id": "racial-elizabeth",
   "metadata": {},
   "outputs": [],
   "source": [
    "# Everything is OK"
   ]
  },
  {
   "cell_type": "markdown",
   "id": "guided-excellence",
   "metadata": {},
   "source": [
    "# 14.Owners"
   ]
  },
  {
   "cell_type": "code",
   "execution_count": 55,
   "id": "initial-oxide",
   "metadata": {},
   "outputs": [],
   "source": [
    "Owners = pd.read_csv(r\"C:\\Users\\dell\\Dropbox\\My PC (DESKTOP-LL2SGK9)\\Desktop\\Data Engineering ACA\\Project\\Third_draft_of_the_project\\Realtor_tables\\transaction_tables\\14.Owners.csv\")"
   ]
  },
  {
   "cell_type": "code",
   "execution_count": 56,
   "id": "limiting-quantity",
   "metadata": {},
   "outputs": [
    {
     "data": {
      "text/html": [
       "<div>\n",
       "<style scoped>\n",
       "    .dataframe tbody tr th:only-of-type {\n",
       "        vertical-align: middle;\n",
       "    }\n",
       "\n",
       "    .dataframe tbody tr th {\n",
       "        vertical-align: top;\n",
       "    }\n",
       "\n",
       "    .dataframe thead th {\n",
       "        text-align: right;\n",
       "    }\n",
       "</style>\n",
       "<table border=\"1\" class=\"dataframe\">\n",
       "  <thead>\n",
       "    <tr style=\"text-align: right;\">\n",
       "      <th></th>\n",
       "      <th>owner_id</th>\n",
       "      <th>first_name</th>\n",
       "      <th>last_name</th>\n",
       "      <th>city_id</th>\n",
       "      <th>owner_area_code</th>\n",
       "      <th>owner_phone_number</th>\n",
       "    </tr>\n",
       "  </thead>\n",
       "  <tbody>\n",
       "    <tr>\n",
       "      <th>0</th>\n",
       "      <td>1</td>\n",
       "      <td>Teresa</td>\n",
       "      <td>Washington</td>\n",
       "      <td>251</td>\n",
       "      <td>613</td>\n",
       "      <td>774-4055</td>\n",
       "    </tr>\n",
       "    <tr>\n",
       "      <th>1</th>\n",
       "      <td>2</td>\n",
       "      <td>Angela</td>\n",
       "      <td>Bean</td>\n",
       "      <td>110</td>\n",
       "      <td>581</td>\n",
       "      <td>232-2939</td>\n",
       "    </tr>\n",
       "    <tr>\n",
       "      <th>2</th>\n",
       "      <td>3</td>\n",
       "      <td>Kenneth</td>\n",
       "      <td>Miller</td>\n",
       "      <td>48</td>\n",
       "      <td>705</td>\n",
       "      <td>159-8186</td>\n",
       "    </tr>\n",
       "    <tr>\n",
       "      <th>3</th>\n",
       "      <td>4</td>\n",
       "      <td>Deborah</td>\n",
       "      <td>Armstrong</td>\n",
       "      <td>335</td>\n",
       "      <td>236</td>\n",
       "      <td>187-9404</td>\n",
       "    </tr>\n",
       "    <tr>\n",
       "      <th>4</th>\n",
       "      <td>5</td>\n",
       "      <td>Theresa</td>\n",
       "      <td>Ward</td>\n",
       "      <td>326</td>\n",
       "      <td>416</td>\n",
       "      <td>273-9255</td>\n",
       "    </tr>\n",
       "    <tr>\n",
       "      <th>...</th>\n",
       "      <td>...</td>\n",
       "      <td>...</td>\n",
       "      <td>...</td>\n",
       "      <td>...</td>\n",
       "      <td>...</td>\n",
       "      <td>...</td>\n",
       "    </tr>\n",
       "    <tr>\n",
       "      <th>69995</th>\n",
       "      <td>69996</td>\n",
       "      <td>Ryan</td>\n",
       "      <td>Beard</td>\n",
       "      <td>375</td>\n",
       "      <td>780</td>\n",
       "      <td>254-7263</td>\n",
       "    </tr>\n",
       "    <tr>\n",
       "      <th>69996</th>\n",
       "      <td>69997</td>\n",
       "      <td>Jeffrey</td>\n",
       "      <td>Graham</td>\n",
       "      <td>315</td>\n",
       "      <td>438</td>\n",
       "      <td>346-6665</td>\n",
       "    </tr>\n",
       "    <tr>\n",
       "      <th>69997</th>\n",
       "      <td>69998</td>\n",
       "      <td>Andrea</td>\n",
       "      <td>Carr</td>\n",
       "      <td>105</td>\n",
       "      <td>709</td>\n",
       "      <td>207-6991</td>\n",
       "    </tr>\n",
       "    <tr>\n",
       "      <th>69998</th>\n",
       "      <td>69999</td>\n",
       "      <td>Christina</td>\n",
       "      <td>Dixon</td>\n",
       "      <td>48</td>\n",
       "      <td>249</td>\n",
       "      <td>856-9030</td>\n",
       "    </tr>\n",
       "    <tr>\n",
       "      <th>69999</th>\n",
       "      <td>70000</td>\n",
       "      <td>Eric</td>\n",
       "      <td>Holland</td>\n",
       "      <td>283</td>\n",
       "      <td>519</td>\n",
       "      <td>617-9824</td>\n",
       "    </tr>\n",
       "  </tbody>\n",
       "</table>\n",
       "<p>70000 rows × 6 columns</p>\n",
       "</div>"
      ],
      "text/plain": [
       "       owner_id first_name   last_name  city_id  owner_area_code  \\\n",
       "0             1     Teresa  Washington      251              613   \n",
       "1             2     Angela        Bean      110              581   \n",
       "2             3    Kenneth      Miller       48              705   \n",
       "3             4    Deborah   Armstrong      335              236   \n",
       "4             5    Theresa        Ward      326              416   \n",
       "...         ...        ...         ...      ...              ...   \n",
       "69995     69996       Ryan       Beard      375              780   \n",
       "69996     69997    Jeffrey      Graham      315              438   \n",
       "69997     69998     Andrea        Carr      105              709   \n",
       "69998     69999  Christina       Dixon       48              249   \n",
       "69999     70000       Eric     Holland      283              519   \n",
       "\n",
       "      owner_phone_number  \n",
       "0               774-4055  \n",
       "1               232-2939  \n",
       "2               159-8186  \n",
       "3               187-9404  \n",
       "4               273-9255  \n",
       "...                  ...  \n",
       "69995           254-7263  \n",
       "69996           346-6665  \n",
       "69997           207-6991  \n",
       "69998           856-9030  \n",
       "69999           617-9824  \n",
       "\n",
       "[70000 rows x 6 columns]"
      ]
     },
     "execution_count": 56,
     "metadata": {},
     "output_type": "execute_result"
    }
   ],
   "source": [
    "Owners"
   ]
  },
  {
   "cell_type": "code",
   "execution_count": 57,
   "id": "supposed-lender",
   "metadata": {},
   "outputs": [
    {
     "name": "stdout",
     "output_type": "stream",
     "text": [
      "owner_id - <class 'numpy.int64'>\n",
      "first_name - <class 'str'>\n",
      "last_name - <class 'str'>\n",
      "city_id - <class 'numpy.int64'>\n",
      "owner_area_code - <class 'numpy.int64'>\n",
      "owner_phone_number - <class 'str'>\n"
     ]
    }
   ],
   "source": [
    "for column in Owners:\n",
    "    print(column,'-',type(Owners[column][0]))"
   ]
  },
  {
   "cell_type": "code",
   "execution_count": 58,
   "id": "useful-charlotte",
   "metadata": {},
   "outputs": [],
   "source": [
    "# Everything is OK"
   ]
  },
  {
   "cell_type": "markdown",
   "id": "posted-bristol",
   "metadata": {},
   "source": [
    "# 15.Estate"
   ]
  },
  {
   "cell_type": "code",
   "execution_count": 59,
   "id": "sorted-zambia",
   "metadata": {},
   "outputs": [],
   "source": [
    "Estates = pd.read_csv(r\"C:\\Users\\dell\\Dropbox\\My PC (DESKTOP-LL2SGK9)\\Desktop\\Data Engineering ACA\\Project\\Third_draft_of_the_project\\Realtor_tables\\transaction_tables\\15.Estates.csv\")"
   ]
  },
  {
   "cell_type": "code",
   "execution_count": null,
   "id": "after-maker",
   "metadata": {},
   "outputs": [],
   "source": [
    "Estates"
   ]
  },
  {
   "cell_type": "code",
   "execution_count": null,
   "id": "conventional-passion",
   "metadata": {},
   "outputs": [],
   "source": [
    "for column in Estates:\n",
    "    print(column,'-',type(Estates[column][0]))"
   ]
  },
  {
   "cell_type": "code",
   "execution_count": null,
   "id": "pressed-frederick",
   "metadata": {},
   "outputs": [],
   "source": [
    "# Everything is OK"
   ]
  },
  {
   "cell_type": "markdown",
   "id": "tough-jaguar",
   "metadata": {},
   "source": [
    "# 16.Estate_Broker_Relationships"
   ]
  },
  {
   "cell_type": "code",
   "execution_count": null,
   "id": "streaming-douglas",
   "metadata": {},
   "outputs": [],
   "source": [
    "Estate_Broker_Relationships = pd.read_csv(r\"C:\\Users\\dell\\Dropbox\\My PC (DESKTOP-LL2SGK9)\\Desktop\\Data Engineering ACA\\Project\\Third_draft_of_the_project\\Realtor_tables\\transaction_tables\\16.Estate_Broker_Relationships.csv\")"
   ]
  },
  {
   "cell_type": "code",
   "execution_count": null,
   "id": "exotic-leader",
   "metadata": {},
   "outputs": [],
   "source": [
    "Estate_Broker_Relationships"
   ]
  },
  {
   "cell_type": "code",
   "execution_count": null,
   "id": "after-mounting",
   "metadata": {},
   "outputs": [],
   "source": [
    "# Everything is OK"
   ]
  },
  {
   "cell_type": "markdown",
   "id": "loving-bankruptcy",
   "metadata": {},
   "source": [
    "# 17.Contracts"
   ]
  },
  {
   "cell_type": "code",
   "execution_count": null,
   "id": "strategic-thanksgiving",
   "metadata": {},
   "outputs": [],
   "source": [
    "Contracts = pd.read_csv(r\"C:\\Users\\dell\\Dropbox\\My PC (DESKTOP-LL2SGK9)\\Desktop\\Data Engineering ACA\\Project\\Third_draft_of_the_project\\Realtor_tables\\transaction_tables\\17.Contracts.csv\")"
   ]
  },
  {
   "cell_type": "code",
   "execution_count": null,
   "id": "optical-challenge",
   "metadata": {},
   "outputs": [],
   "source": [
    "Contracts"
   ]
  },
  {
   "cell_type": "code",
   "execution_count": null,
   "id": "compound-length",
   "metadata": {},
   "outputs": [],
   "source": [
    "# Everything is OK"
   ]
  },
  {
   "cell_type": "code",
   "execution_count": null,
   "id": "seventh-primary",
   "metadata": {},
   "outputs": [],
   "source": []
  }
 ],
 "metadata": {
  "kernelspec": {
   "display_name": "Python 3",
   "language": "python",
   "name": "python3"
  },
  "language_info": {
   "codemirror_mode": {
    "name": "ipython",
    "version": 3
   },
   "file_extension": ".py",
   "mimetype": "text/x-python",
   "name": "python",
   "nbconvert_exporter": "python",
   "pygments_lexer": "ipython3",
   "version": "3.8.3"
  }
 },
 "nbformat": 4,
 "nbformat_minor": 5
}
